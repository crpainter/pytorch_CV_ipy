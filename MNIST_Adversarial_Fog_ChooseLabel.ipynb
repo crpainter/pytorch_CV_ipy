{
  "nbformat": 4,
  "nbformat_minor": 0,
  "metadata": {
    "colab": {
      "name": "CIS680HW2_3_2.ipynb",
      "version": "0.3.2",
      "provenance": []
    },
    "kernelspec": {
      "name": "python3",
      "display_name": "Python 3"
    },
    "accelerator": "GPU"
  },
  "cells": [
    {
      "metadata": {
        "id": "SEdF98fIRMEm",
        "colab_type": "code",
        "colab": {
          "base_uri": "https://localhost:8080/",
          "height": 34
        },
        "outputId": "a8473432-81da-4b36-b462-14800d93b7af"
      },
      "cell_type": "code",
      "source": [
        "# http://pytorch.org/\n",
        "from os.path import exists\n",
        "from wheel.pep425tags import get_abbr_impl, get_impl_ver, get_abi_tag\n",
        "platform = '{}{}-{}'.format(get_abbr_impl(), get_impl_ver(), get_abi_tag())\n",
        "cuda_output = !ldconfig -p|grep cudart.so|sed -e 's/.*\\.\\([0-9]*\\)\\.\\([0-9]*\\)$/cu\\1\\2/'\n",
        "accelerator = cuda_output[0] if exists('/dev/nvidia0') else 'cpu'\n",
        "\n",
        "!pip install -q http://download.pytorch.org/whl/{accelerator}/torch-0.4.1-{platform}-linux_x86_64.whl torchvision\n",
        "import torch\n",
        "\n",
        "device =  torch.device(\"cuda:0\" if torch.cuda.is_available() else \"cpu\")\n",
        "print(device)"
      ],
      "execution_count": 3,
      "outputs": [
        {
          "output_type": "stream",
          "text": [
            "cuda:0\n"
          ],
          "name": "stdout"
        }
      ]
    },
    {
      "metadata": {
        "id": "azK0hNxpRW1Q",
        "colab_type": "code",
        "colab": {
          "base_uri": "https://localhost:8080/",
          "height": 122
        },
        "outputId": "a19851dd-3e8c-4081-c9e6-7cd91757d0df"
      },
      "cell_type": "code",
      "source": [
        "import torch\n",
        "import torchvision\n",
        "import numpy as np\n",
        "import torch.nn as nn\n",
        "import torch.optim as optim\n",
        "import matplotlib.pyplot as plt\n",
        "import torch.nn.functional as F\n",
        "import gzip\n",
        "import pickle\n",
        "import pdb\n",
        "import gzip\n",
        "import numpy as np\n",
        "import matplotlib.pyplot as plt\n",
        "import torchvision.datasets as datasets\n",
        "from IPython.core.debugger import set_trace\n",
        "\n",
        "train_data = datasets.MNIST('/Users/Chris/Downloads',train = True, download= True, transform= torchvision.transforms.Compose([torchvision.transforms.ToTensor()]))\n",
        "test_data = datasets.MNIST('/Users/Chris/Downloads',train = False, download= True, transform= torchvision.transforms.Compose([torchvision.transforms.ToTensor()]))\n",
        "\n",
        "class Sign(torch.autograd.Function):\n",
        "    @staticmethod\n",
        "    def forward(ctx, x):\n",
        "        ctx.save_for_backward(x.clone())\n",
        "        x[x<0] = -1\n",
        "        x[x>=0] = 1\n",
        "        return x\n",
        "    @staticmethod\n",
        "    def backward(ctx, grad_output):\n",
        "      x, = ctx.saved_tensors\n",
        "      grad_input = grad_output.clone()\n",
        "      grad_input = grad_input.to(device)\n",
        "      calculate = (x.abs() < 1.)\n",
        "      calculate = calculate.type(torch.FloatTensor)\n",
        "      calculate = calculate.to(device)\n",
        "      grad_input = calculate * grad_input\n",
        "      return grad_input\n",
        "sign = Sign.apply\n",
        "criterion = nn.CrossEntropyLoss()\n",
        "class Net(nn.Module):\n",
        "    def __init__(self):\n",
        "        super(Net, self).__init__()\n",
        "\n",
        "        \n",
        "        self.conv1 = nn.Conv2d(1, 32, 3, stride=2,padding=1)\n",
        "        self.conv2 = nn.Conv2d(32, 64, 3, stride=2, padding=1)\n",
        "        self.conv3 = nn.Conv2d(64, 128, 3, stride=2, padding=1)\n",
        "        self.conv4 = nn.Conv2d(128, 128, 3, stride=2, padding=1)\n",
        "        self.conv5 = nn.Conv2d(128, 128, 3, stride=2, padding=1)\n",
        "        self.fc1 = nn.Linear(128, 100)\n",
        "        self.fc2 = nn.Linear(100, 10)\n",
        "        self.act = nn.Softmax()\n",
        "        self.relu = nn.ReLU()\n",
        "\n",
        "    def forward(self, x):\n",
        "\n",
        "        Sign()\n",
        "        x = sign(self.conv1(x))\n",
        "        x = sign(self.conv2(x))\n",
        "        x = sign(self.conv3(x))\n",
        "        x = sign(self.conv4(x))\n",
        "        x = sign(self.conv5(x))\n",
        "        x = x.view(-1, self.num_flat_features(x))\n",
        "        x = sign(self.fc1(x))\n",
        "        x = self.act(self.fc2(x))\n",
        "        return x\n",
        "        # Activation function, editable\n",
        "\n",
        "    def num_flat_features(self, x):\n",
        "        size = x.size()[1:]\n",
        "        num_features = 1\n",
        "        for s in size:\n",
        "            num_features *= s\n",
        "        return num_features\n",
        "net = Net()\n",
        "net = net.to(device)\n",
        "optimizer = optim.SGD(net.parameters(), lr=0.15)\n",
        "net.zero_grad()\n",
        "trainloader = torch.utils.data.DataLoader(train_data, batch_size=100, shuffle=True)\n",
        "testloader = torch.utils.data.DataLoader(test_data, batch_size=10000, shuffle=True)\n",
        "dataiter = iter(trainloader)\n",
        "i = 0\n",
        "j = 0\n",
        "count = 0\n",
        "test_accuracy = 0\n",
        "accuracy_vector = []\n",
        "test_accuracy_vector = []\n",
        "\n",
        "for j in range(0,100):\n",
        "  dataiter = iter(trainloader)\n",
        "  if test_accuracy > 0.95:\n",
        "    break\n",
        "  for batch in dataiter:\n",
        "    image = batch[0]\n",
        "    image = image*2 -1\n",
        "    label = batch[1]\n",
        "    # Transfer to GPU\n",
        "    image, label = image.to(device), label.to(device)\n",
        "    #print(net(local_batch))\n",
        "    optimizer.zero_grad()\n",
        "    output = net(image)\n",
        "    #print(output.argmax(1))\n",
        "    loss = criterion(output, label)\n",
        "    loss.backward()\n",
        "    optimizer.step()\n",
        "    i = i+1\n",
        "    z = output.max(1)\n",
        "    correct_guesses = z[1] == label\n",
        "    correct_guesses = correct_guesses.type(torch.FloatTensor)\n",
        "    accuracy = correct_guesses.mean()\n",
        "    accuracy_vector.append(accuracy*100)\n",
        "    count = count + 1\n",
        "    if count == 600:\n",
        "      print(test_accuracy)\n",
        "      testiter = iter(testloader)\n",
        "      count = 0\n",
        "      for test_batch in testiter:\n",
        "        test_image = test_batch[0]\n",
        "        test_image = test_image*2 -1\n",
        "        test_label = test_batch[1]\n",
        "        test_image, test_label = test_image.to(device), test_label.to(device)\n",
        "        outputtest = net(test_image)\n",
        "        ztest = outputtest.max(1)\n",
        "        test_correct_guesses = ztest[1] == test_label\n",
        "        test_correct_guesses = test_correct_guesses.type(torch.FloatTensor)\n",
        "        test_accuracy = test_correct_guesses.mean()\n",
        "        test_accuracy_vector.append(test_accuracy*100)\n",
        "        break"
      ],
      "execution_count": 4,
      "outputs": [
        {
          "output_type": "stream",
          "text": [
            "/usr/local/lib/python3.6/dist-packages/ipykernel_launcher.py:64: UserWarning: Implicit dimension choice for softmax has been deprecated. Change the call to include dim=X as an argument.\n"
          ],
          "name": "stderr"
        },
        {
          "output_type": "stream",
          "text": [
            "0\n",
            "tensor(0.9078)\n",
            "tensor(0.9401)\n",
            "tensor(0.9470)\n"
          ],
          "name": "stdout"
        }
      ]
    },
    {
      "metadata": {
        "id": "5BqAMql-RbCD",
        "colab_type": "code",
        "colab": {
          "base_uri": "https://localhost:8080/",
          "height": 830
        },
        "outputId": "5262f0d5-fc71-4b64-efa9-1c0708d959ae"
      },
      "cell_type": "code",
      "source": [
        "\n",
        "def fgsm_attack(image, epsilon, data_grad):\n",
        "    sign_data_grad = (data_grad.sign() < 0)\n",
        "    sign_data_grad = sign_data_grad.type(torch.cuda.FloatTensor)\n",
        "    perturbed_image = image + epsilon*sign_data_grad\n",
        "    perturbed_image = torch.clamp(perturbed_image, -1, 1)\n",
        "    return perturbed_image\n",
        "\n",
        "trickloader = torch.utils.data.DataLoader(train_data, batch_size=1, shuffle=True)\n",
        "trickiter = iter(trickloader)\n",
        "for batch in trickiter:\n",
        "  image = batch[0].clone()\n",
        "  image = image*2 -1\n",
        "  starting_image = image.clone()\n",
        "  special_label = batch[1]\n",
        "  special_label = special_label.to(device)\n",
        "  adversarial_optimizer = optim.SGD(net.parameters(), lr=0.10)\n",
        "  image = image.to(device)\n",
        "  image.requires_grad = True\n",
        "  output = net(image)\n",
        "  guess = output.max(1)\n",
        "  guess_value = guess[1]\n",
        "  false_target = torch.tensor([2])\n",
        "  false_target = false_target.type(torch.cuda.LongTensor)\n",
        "  loss = criterion(output, false_target)\n",
        "  loss.retain_grad()\n",
        "  pdb.set_trace()\n",
        "  while (guess_value != false_target) or (guess[0] < 0.9):\n",
        "    image = image.to(device)\n",
        "    image = torch.autograd.Variable(image, requires_grad = True)\n",
        "    output = net(image)\n",
        "    loss = criterion(output, false_target)\n",
        "    loss.retain_grad()\n",
        "    net.zero_grad()\n",
        "    loss.backward()\n",
        "    data_grad = image.grad.data\n",
        "    perturbed_image = fgsm_attack(image, 0.01, data_grad)\n",
        "    output = net(perturbed_image)\n",
        "    guess = output.max(1)\n",
        "    guess_value = guess[1]\n",
        "    image = perturbed_image\n",
        "  pdb.set_trace()"
      ],
      "execution_count": 5,
      "outputs": [
        {
          "output_type": "stream",
          "text": [
            "/usr/local/lib/python3.6/dist-packages/ipykernel_launcher.py:64: UserWarning: Implicit dimension choice for softmax has been deprecated. Change the call to include dim=X as an argument.\n"
          ],
          "name": "stderr"
        },
        {
          "output_type": "stream",
          "text": [
            "> <ipython-input-5-e94f967a8598>(28)<module>()\n",
            "-> while (guess_value != false_target) or (guess[0] < 0.9):\n",
            "(Pdb) guess_value\n",
            "tensor([1], device='cuda:0')\n",
            "(Pdb) special_label\n",
            "tensor([1], device='cuda:0')\n",
            "(Pdb) \n",
            "tensor([1], device='cuda:0')\n",
            "(Pdb) c\n",
            "> <ipython-input-5-e94f967a8598>(11)<module>()\n",
            "-> for batch in trickiter:\n",
            "(Pdb) q\n"
          ],
          "name": "stdout"
        },
        {
          "output_type": "error",
          "ename": "BdbQuit",
          "evalue": "ignored",
          "traceback": [
            "\u001b[0;31m---------------------------------------------------------------------------\u001b[0m",
            "\u001b[0;31mBdbQuit\u001b[0m                                   Traceback (most recent call last)",
            "\u001b[0;32m<ipython-input-5-e94f967a8598>\u001b[0m in \u001b[0;36m<module>\u001b[0;34m()\u001b[0m\n\u001b[1;32m      9\u001b[0m \u001b[0mtrickloader\u001b[0m \u001b[0;34m=\u001b[0m \u001b[0mtorch\u001b[0m\u001b[0;34m.\u001b[0m\u001b[0mutils\u001b[0m\u001b[0;34m.\u001b[0m\u001b[0mdata\u001b[0m\u001b[0;34m.\u001b[0m\u001b[0mDataLoader\u001b[0m\u001b[0;34m(\u001b[0m\u001b[0mtrain_data\u001b[0m\u001b[0;34m,\u001b[0m \u001b[0mbatch_size\u001b[0m\u001b[0;34m=\u001b[0m\u001b[0;36m1\u001b[0m\u001b[0;34m,\u001b[0m \u001b[0mshuffle\u001b[0m\u001b[0;34m=\u001b[0m\u001b[0;32mTrue\u001b[0m\u001b[0;34m)\u001b[0m\u001b[0;34m\u001b[0m\u001b[0m\n\u001b[1;32m     10\u001b[0m \u001b[0mtrickiter\u001b[0m \u001b[0;34m=\u001b[0m \u001b[0miter\u001b[0m\u001b[0;34m(\u001b[0m\u001b[0mtrickloader\u001b[0m\u001b[0;34m)\u001b[0m\u001b[0;34m\u001b[0m\u001b[0m\n\u001b[0;32m---> 11\u001b[0;31m \u001b[0;32mfor\u001b[0m \u001b[0mbatch\u001b[0m \u001b[0;32min\u001b[0m \u001b[0mtrickiter\u001b[0m\u001b[0;34m:\u001b[0m\u001b[0;34m\u001b[0m\u001b[0m\n\u001b[0m\u001b[1;32m     12\u001b[0m   \u001b[0mimage\u001b[0m \u001b[0;34m=\u001b[0m \u001b[0mbatch\u001b[0m\u001b[0;34m[\u001b[0m\u001b[0;36m0\u001b[0m\u001b[0;34m]\u001b[0m\u001b[0;34m.\u001b[0m\u001b[0mclone\u001b[0m\u001b[0;34m(\u001b[0m\u001b[0;34m)\u001b[0m\u001b[0;34m\u001b[0m\u001b[0m\n\u001b[1;32m     13\u001b[0m   \u001b[0mimage\u001b[0m \u001b[0;34m=\u001b[0m \u001b[0mimage\u001b[0m\u001b[0;34m*\u001b[0m\u001b[0;36m2\u001b[0m \u001b[0;34m-\u001b[0m\u001b[0;36m1\u001b[0m\u001b[0;34m\u001b[0m\u001b[0m\n",
            "\u001b[0;32m<ipython-input-5-e94f967a8598>\u001b[0m in \u001b[0;36m<module>\u001b[0;34m()\u001b[0m\n\u001b[1;32m      9\u001b[0m \u001b[0mtrickloader\u001b[0m \u001b[0;34m=\u001b[0m \u001b[0mtorch\u001b[0m\u001b[0;34m.\u001b[0m\u001b[0mutils\u001b[0m\u001b[0;34m.\u001b[0m\u001b[0mdata\u001b[0m\u001b[0;34m.\u001b[0m\u001b[0mDataLoader\u001b[0m\u001b[0;34m(\u001b[0m\u001b[0mtrain_data\u001b[0m\u001b[0;34m,\u001b[0m \u001b[0mbatch_size\u001b[0m\u001b[0;34m=\u001b[0m\u001b[0;36m1\u001b[0m\u001b[0;34m,\u001b[0m \u001b[0mshuffle\u001b[0m\u001b[0;34m=\u001b[0m\u001b[0;32mTrue\u001b[0m\u001b[0;34m)\u001b[0m\u001b[0;34m\u001b[0m\u001b[0m\n\u001b[1;32m     10\u001b[0m \u001b[0mtrickiter\u001b[0m \u001b[0;34m=\u001b[0m \u001b[0miter\u001b[0m\u001b[0;34m(\u001b[0m\u001b[0mtrickloader\u001b[0m\u001b[0;34m)\u001b[0m\u001b[0;34m\u001b[0m\u001b[0m\n\u001b[0;32m---> 11\u001b[0;31m \u001b[0;32mfor\u001b[0m \u001b[0mbatch\u001b[0m \u001b[0;32min\u001b[0m \u001b[0mtrickiter\u001b[0m\u001b[0;34m:\u001b[0m\u001b[0;34m\u001b[0m\u001b[0m\n\u001b[0m\u001b[1;32m     12\u001b[0m   \u001b[0mimage\u001b[0m \u001b[0;34m=\u001b[0m \u001b[0mbatch\u001b[0m\u001b[0;34m[\u001b[0m\u001b[0;36m0\u001b[0m\u001b[0;34m]\u001b[0m\u001b[0;34m.\u001b[0m\u001b[0mclone\u001b[0m\u001b[0;34m(\u001b[0m\u001b[0;34m)\u001b[0m\u001b[0;34m\u001b[0m\u001b[0m\n\u001b[1;32m     13\u001b[0m   \u001b[0mimage\u001b[0m \u001b[0;34m=\u001b[0m \u001b[0mimage\u001b[0m\u001b[0;34m*\u001b[0m\u001b[0;36m2\u001b[0m \u001b[0;34m-\u001b[0m\u001b[0;36m1\u001b[0m\u001b[0;34m\u001b[0m\u001b[0m\n",
            "\u001b[0;32m/usr/lib/python3.6/bdb.py\u001b[0m in \u001b[0;36mtrace_dispatch\u001b[0;34m(self, frame, event, arg)\u001b[0m\n\u001b[1;32m     49\u001b[0m             \u001b[0;32mreturn\u001b[0m \u001b[0;31m# None\u001b[0m\u001b[0;34m\u001b[0m\u001b[0m\n\u001b[1;32m     50\u001b[0m         \u001b[0;32mif\u001b[0m \u001b[0mevent\u001b[0m \u001b[0;34m==\u001b[0m \u001b[0;34m'line'\u001b[0m\u001b[0;34m:\u001b[0m\u001b[0;34m\u001b[0m\u001b[0m\n\u001b[0;32m---> 51\u001b[0;31m             \u001b[0;32mreturn\u001b[0m \u001b[0mself\u001b[0m\u001b[0;34m.\u001b[0m\u001b[0mdispatch_line\u001b[0m\u001b[0;34m(\u001b[0m\u001b[0mframe\u001b[0m\u001b[0;34m)\u001b[0m\u001b[0;34m\u001b[0m\u001b[0m\n\u001b[0m\u001b[1;32m     52\u001b[0m         \u001b[0;32mif\u001b[0m \u001b[0mevent\u001b[0m \u001b[0;34m==\u001b[0m \u001b[0;34m'call'\u001b[0m\u001b[0;34m:\u001b[0m\u001b[0;34m\u001b[0m\u001b[0m\n\u001b[1;32m     53\u001b[0m             \u001b[0;32mreturn\u001b[0m \u001b[0mself\u001b[0m\u001b[0;34m.\u001b[0m\u001b[0mdispatch_call\u001b[0m\u001b[0;34m(\u001b[0m\u001b[0mframe\u001b[0m\u001b[0;34m,\u001b[0m \u001b[0marg\u001b[0m\u001b[0;34m)\u001b[0m\u001b[0;34m\u001b[0m\u001b[0m\n",
            "\u001b[0;32m/usr/lib/python3.6/bdb.py\u001b[0m in \u001b[0;36mdispatch_line\u001b[0;34m(self, frame)\u001b[0m\n\u001b[1;32m     68\u001b[0m         \u001b[0;32mif\u001b[0m \u001b[0mself\u001b[0m\u001b[0;34m.\u001b[0m\u001b[0mstop_here\u001b[0m\u001b[0;34m(\u001b[0m\u001b[0mframe\u001b[0m\u001b[0;34m)\u001b[0m \u001b[0;32mor\u001b[0m \u001b[0mself\u001b[0m\u001b[0;34m.\u001b[0m\u001b[0mbreak_here\u001b[0m\u001b[0;34m(\u001b[0m\u001b[0mframe\u001b[0m\u001b[0;34m)\u001b[0m\u001b[0;34m:\u001b[0m\u001b[0;34m\u001b[0m\u001b[0m\n\u001b[1;32m     69\u001b[0m             \u001b[0mself\u001b[0m\u001b[0;34m.\u001b[0m\u001b[0muser_line\u001b[0m\u001b[0;34m(\u001b[0m\u001b[0mframe\u001b[0m\u001b[0;34m)\u001b[0m\u001b[0;34m\u001b[0m\u001b[0m\n\u001b[0;32m---> 70\u001b[0;31m             \u001b[0;32mif\u001b[0m \u001b[0mself\u001b[0m\u001b[0;34m.\u001b[0m\u001b[0mquitting\u001b[0m\u001b[0;34m:\u001b[0m \u001b[0;32mraise\u001b[0m \u001b[0mBdbQuit\u001b[0m\u001b[0;34m\u001b[0m\u001b[0m\n\u001b[0m\u001b[1;32m     71\u001b[0m         \u001b[0;32mreturn\u001b[0m \u001b[0mself\u001b[0m\u001b[0;34m.\u001b[0m\u001b[0mtrace_dispatch\u001b[0m\u001b[0;34m\u001b[0m\u001b[0m\n\u001b[1;32m     72\u001b[0m \u001b[0;34m\u001b[0m\u001b[0m\n",
            "\u001b[0;31mBdbQuit\u001b[0m: "
          ]
        }
      ]
    },
    {
      "metadata": {
        "id": "DAZ8SNa_TGAD",
        "colab_type": "code",
        "colab": {
          "base_uri": "https://localhost:8080/",
          "height": 781
        },
        "outputId": "8bf77542-db74-4291-8689-63816bf8d60f"
      },
      "cell_type": "code",
      "source": [
        "back_on_cpu = perturbed_image.cpu()\n",
        "numImg = back_on_cpu.detach().numpy()\n",
        "numImg = np.squeeze(numImg)\n",
        "imgplot = plt.imshow(numImg)\n",
        "plt.show()\n",
        "print(guess_value)\n",
        "\n",
        "back_on_cpu2 = starting_image.cpu()\n",
        "numImg2 = back_on_cpu2.detach().numpy()\n",
        "numImg2 = np.squeeze(numImg2)\n",
        "imgplot2 = plt.imshow(numImg2)\n",
        "print(special_label)\n",
        "\n",
        "plt.show()\n",
        "pdb.set_trace()"
      ],
      "execution_count": 0,
      "outputs": [
        {
          "output_type": "display_data",
          "data": {
            "image/png": "[encoded data removed]",
            "text/plain": [
              "<matplotlib.figure.Figure at 0x7effc791d240>"
            ]
          },
          "metadata": {
            "tags": []
          }
        },
        {
          "output_type": "stream",
          "text": [
            "tensor([2], device='cuda:0')\n",
            "tensor([1], device='cuda:0')\n"
          ],
          "name": "stdout"
        },
        {
          "output_type": "display_data",
          "data": {
            "image/png": "[encoded data removed]",
            "text/plain": [
              "<matplotlib.figure.Figure at 0x7effc66a2fd0>"
            ]
          },
          "metadata": {
            "tags": []
          }
        },
        {
          "output_type": "stream",
          "text": [
            "--Call--\n",
            "> /usr/local/lib/python3.6/dist-packages/IPython/core/displayhook.py(236)__call__()\n",
            "-> def __call__(self, result=None):\n"
          ],
          "name": "stdout"
        }
      ]
    }
  ]
}